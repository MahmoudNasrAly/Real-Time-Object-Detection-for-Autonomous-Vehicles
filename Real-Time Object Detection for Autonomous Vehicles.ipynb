{
 "cells": [
  {
   "cell_type": "code",
   "metadata": {
    "trusted": true,
    "ExecuteTime": {
     "end_time": "2025-05-07T23:16:36.601577Z",
     "start_time": "2025-05-07T23:15:40.135560Z"
    }
   },
   "source": [
    "!pip install roboflow ultralytics"
   ],
   "outputs": [
    {
     "name": "stdout",
     "output_type": "stream",
     "text": [
      "/bin/bash: warning: setlocale: LC_ALL: cannot change locale (en_US.UTF-8)\r\n",
      "Collecting roboflow\r\n",
      "  Downloading roboflow-1.1.63-py3-none-any.whl.metadata (9.7 kB)\r\n",
      "Collecting ultralytics\r\n",
      "  Downloading ultralytics-8.3.128-py3-none-any.whl.metadata (37 kB)\r\n",
      "Requirement already satisfied: certifi in /home/mahmoud/miniconda3/envs/mini-rag-app/lib/python3.8/site-packages (from roboflow) (2024.8.30)\r\n",
      "Collecting idna==3.7 (from roboflow)\r\n",
      "  Downloading idna-3.7-py3-none-any.whl.metadata (9.9 kB)\r\n",
      "Requirement already satisfied: cycler in /home/mahmoud/miniconda3/envs/mini-rag-app/lib/python3.8/site-packages (from roboflow) (0.12.1)\r\n",
      "Requirement already satisfied: kiwisolver>=1.3.1 in /home/mahmoud/miniconda3/envs/mini-rag-app/lib/python3.8/site-packages (from roboflow) (1.4.7)\r\n",
      "Requirement already satisfied: matplotlib in /home/mahmoud/miniconda3/envs/mini-rag-app/lib/python3.8/site-packages (from roboflow) (3.7.5)\r\n",
      "Requirement already satisfied: numpy>=1.18.5 in /home/mahmoud/miniconda3/envs/mini-rag-app/lib/python3.8/site-packages (from roboflow) (1.24.3)\r\n",
      "Collecting opencv-python-headless==4.10.0.84 (from roboflow)\r\n",
      "  Downloading opencv_python_headless-4.10.0.84-cp37-abi3-manylinux_2_17_x86_64.manylinux2014_x86_64.whl.metadata (20 kB)\r\n",
      "Requirement already satisfied: Pillow>=7.1.2 in /home/mahmoud/miniconda3/envs/mini-rag-app/lib/python3.8/site-packages (from roboflow) (10.4.0)\r\n",
      "Collecting pillow-heif>=0.18.0 (from roboflow)\r\n",
      "  Downloading pillow_heif-0.18.0-cp38-cp38-manylinux_2_17_x86_64.manylinux2014_x86_64.whl.metadata (9.8 kB)\r\n",
      "Requirement already satisfied: python-dateutil in /home/mahmoud/miniconda3/envs/mini-rag-app/lib/python3.8/site-packages (from roboflow) (2.8.2)\r\n",
      "Requirement already satisfied: python-dotenv in /home/mahmoud/miniconda3/envs/mini-rag-app/lib/python3.8/site-packages (from roboflow) (1.0.1)\r\n",
      "Requirement already satisfied: requests in /home/mahmoud/miniconda3/envs/mini-rag-app/lib/python3.8/site-packages (from roboflow) (2.32.3)\r\n",
      "Requirement already satisfied: six in /home/mahmoud/miniconda3/envs/mini-rag-app/lib/python3.8/site-packages (from roboflow) (1.16.0)\r\n",
      "Requirement already satisfied: urllib3>=1.26.6 in /home/mahmoud/miniconda3/envs/mini-rag-app/lib/python3.8/site-packages (from roboflow) (2.2.3)\r\n",
      "Requirement already satisfied: tqdm>=4.41.0 in /home/mahmoud/miniconda3/envs/mini-rag-app/lib/python3.8/site-packages (from roboflow) (4.67.1)\r\n",
      "Requirement already satisfied: PyYAML>=5.3.1 in /home/mahmoud/miniconda3/envs/mini-rag-app/lib/python3.8/site-packages (from roboflow) (6.0.2)\r\n",
      "Requirement already satisfied: requests-toolbelt in /home/mahmoud/miniconda3/envs/mini-rag-app/lib/python3.8/site-packages (from roboflow) (1.0.0)\r\n",
      "Requirement already satisfied: filetype in /home/mahmoud/miniconda3/envs/mini-rag-app/lib/python3.8/site-packages (from roboflow) (1.2.0)\r\n",
      "Requirement already satisfied: opencv-python>=4.6.0 in /home/mahmoud/miniconda3/envs/mini-rag-app/lib/python3.8/site-packages (from ultralytics) (4.11.0.86)\r\n",
      "Requirement already satisfied: scipy>=1.4.1 in /home/mahmoud/miniconda3/envs/mini-rag-app/lib/python3.8/site-packages (from ultralytics) (1.10.1)\r\n",
      "Requirement already satisfied: torch>=1.8.0 in /home/mahmoud/miniconda3/envs/mini-rag-app/lib/python3.8/site-packages (from ultralytics) (2.4.1)\r\n",
      "Requirement already satisfied: torchvision>=0.9.0 in /home/mahmoud/miniconda3/envs/mini-rag-app/lib/python3.8/site-packages (from ultralytics) (0.19.1)\r\n",
      "Requirement already satisfied: psutil in /home/mahmoud/miniconda3/envs/mini-rag-app/lib/python3.8/site-packages (from ultralytics) (7.0.0)\r\n",
      "Collecting py-cpuinfo (from ultralytics)\r\n",
      "  Downloading py_cpuinfo-9.0.0-py3-none-any.whl.metadata (794 bytes)\r\n",
      "Requirement already satisfied: pandas>=1.1.4 in /home/mahmoud/miniconda3/envs/mini-rag-app/lib/python3.8/site-packages (from ultralytics) (2.0.3)\r\n",
      "Collecting seaborn>=0.11.0 (from ultralytics)\r\n",
      "  Downloading seaborn-0.13.2-py3-none-any.whl.metadata (5.4 kB)\r\n",
      "Collecting ultralytics-thop>=2.0.0 (from ultralytics)\r\n",
      "  Downloading ultralytics_thop-2.0.14-py3-none-any.whl.metadata (9.4 kB)\r\n",
      "Requirement already satisfied: contourpy>=1.0.1 in /home/mahmoud/miniconda3/envs/mini-rag-app/lib/python3.8/site-packages (from matplotlib->roboflow) (1.1.1)\r\n",
      "Requirement already satisfied: fonttools>=4.22.0 in /home/mahmoud/miniconda3/envs/mini-rag-app/lib/python3.8/site-packages (from matplotlib->roboflow) (4.56.0)\r\n",
      "Requirement already satisfied: packaging>=20.0 in /home/mahmoud/miniconda3/envs/mini-rag-app/lib/python3.8/site-packages (from matplotlib->roboflow) (24.1)\r\n",
      "Requirement already satisfied: pyparsing>=2.3.1 in /home/mahmoud/miniconda3/envs/mini-rag-app/lib/python3.8/site-packages (from matplotlib->roboflow) (3.1.4)\r\n",
      "Requirement already satisfied: importlib-resources>=3.2.0 in /home/mahmoud/miniconda3/envs/mini-rag-app/lib/python3.8/site-packages (from matplotlib->roboflow) (6.4.5)\r\n",
      "Requirement already satisfied: pytz>=2020.1 in /home/mahmoud/miniconda3/envs/mini-rag-app/lib/python3.8/site-packages (from pandas>=1.1.4->ultralytics) (2024.1)\r\n",
      "Requirement already satisfied: tzdata>=2022.1 in /home/mahmoud/miniconda3/envs/mini-rag-app/lib/python3.8/site-packages (from pandas>=1.1.4->ultralytics) (2025.1)\r\n",
      "Requirement already satisfied: charset-normalizer<4,>=2 in /home/mahmoud/miniconda3/envs/mini-rag-app/lib/python3.8/site-packages (from requests->roboflow) (3.3.2)\r\n",
      "Requirement already satisfied: filelock in /home/mahmoud/miniconda3/envs/mini-rag-app/lib/python3.8/site-packages (from torch>=1.8.0->ultralytics) (3.16.1)\r\n",
      "Requirement already satisfied: typing-extensions>=4.8.0 in /home/mahmoud/miniconda3/envs/mini-rag-app/lib/python3.8/site-packages (from torch>=1.8.0->ultralytics) (4.12.2)\r\n",
      "Requirement already satisfied: sympy in /home/mahmoud/miniconda3/envs/mini-rag-app/lib/python3.8/site-packages (from torch>=1.8.0->ultralytics) (1.13.3)\r\n",
      "Requirement already satisfied: networkx in /home/mahmoud/miniconda3/envs/mini-rag-app/lib/python3.8/site-packages (from torch>=1.8.0->ultralytics) (2.8.8)\r\n",
      "Requirement already satisfied: jinja2 in /home/mahmoud/miniconda3/envs/mini-rag-app/lib/python3.8/site-packages (from torch>=1.8.0->ultralytics) (3.1.5)\r\n",
      "Requirement already satisfied: fsspec in /home/mahmoud/miniconda3/envs/mini-rag-app/lib/python3.8/site-packages (from torch>=1.8.0->ultralytics) (2024.9.0)\r\n",
      "Requirement already satisfied: nvidia-cuda-nvrtc-cu12==12.1.105 in /home/mahmoud/miniconda3/envs/mini-rag-app/lib/python3.8/site-packages (from torch>=1.8.0->ultralytics) (12.1.105)\r\n",
      "Requirement already satisfied: nvidia-cuda-runtime-cu12==12.1.105 in /home/mahmoud/miniconda3/envs/mini-rag-app/lib/python3.8/site-packages (from torch>=1.8.0->ultralytics) (12.1.105)\r\n",
      "Requirement already satisfied: nvidia-cuda-cupti-cu12==12.1.105 in /home/mahmoud/miniconda3/envs/mini-rag-app/lib/python3.8/site-packages (from torch>=1.8.0->ultralytics) (12.1.105)\r\n",
      "Requirement already satisfied: nvidia-cudnn-cu12==9.1.0.70 in /home/mahmoud/miniconda3/envs/mini-rag-app/lib/python3.8/site-packages (from torch>=1.8.0->ultralytics) (9.1.0.70)\r\n",
      "Requirement already satisfied: nvidia-cublas-cu12==12.1.3.1 in /home/mahmoud/miniconda3/envs/mini-rag-app/lib/python3.8/site-packages (from torch>=1.8.0->ultralytics) (12.1.3.1)\r\n",
      "Requirement already satisfied: nvidia-cufft-cu12==11.0.2.54 in /home/mahmoud/miniconda3/envs/mini-rag-app/lib/python3.8/site-packages (from torch>=1.8.0->ultralytics) (11.0.2.54)\r\n",
      "Requirement already satisfied: nvidia-curand-cu12==10.3.2.106 in /home/mahmoud/miniconda3/envs/mini-rag-app/lib/python3.8/site-packages (from torch>=1.8.0->ultralytics) (10.3.2.106)\r\n",
      "Requirement already satisfied: nvidia-cusolver-cu12==11.4.5.107 in /home/mahmoud/miniconda3/envs/mini-rag-app/lib/python3.8/site-packages (from torch>=1.8.0->ultralytics) (11.4.5.107)\r\n",
      "Requirement already satisfied: nvidia-cusparse-cu12==12.1.0.106 in /home/mahmoud/miniconda3/envs/mini-rag-app/lib/python3.8/site-packages (from torch>=1.8.0->ultralytics) (12.1.0.106)\r\n",
      "Requirement already satisfied: nvidia-nccl-cu12==2.20.5 in /home/mahmoud/miniconda3/envs/mini-rag-app/lib/python3.8/site-packages (from torch>=1.8.0->ultralytics) (2.20.5)\r\n",
      "Requirement already satisfied: nvidia-nvtx-cu12==12.1.105 in /home/mahmoud/miniconda3/envs/mini-rag-app/lib/python3.8/site-packages (from torch>=1.8.0->ultralytics) (12.1.105)\r\n",
      "Requirement already satisfied: triton==3.0.0 in /home/mahmoud/miniconda3/envs/mini-rag-app/lib/python3.8/site-packages (from torch>=1.8.0->ultralytics) (3.0.0)\r\n",
      "Requirement already satisfied: nvidia-nvjitlink-cu12 in /home/mahmoud/miniconda3/envs/mini-rag-app/lib/python3.8/site-packages (from nvidia-cusolver-cu12==11.4.5.107->torch>=1.8.0->ultralytics) (12.8.61)\r\n",
      "Requirement already satisfied: zipp>=3.1.0 in /home/mahmoud/miniconda3/envs/mini-rag-app/lib/python3.8/site-packages (from importlib-resources>=3.2.0->matplotlib->roboflow) (3.20.2)\r\n",
      "Requirement already satisfied: MarkupSafe>=2.0 in /home/mahmoud/miniconda3/envs/mini-rag-app/lib/python3.8/site-packages (from jinja2->torch>=1.8.0->ultralytics) (2.1.5)\r\n",
      "Requirement already satisfied: mpmath<1.4,>=1.1.0 in /home/mahmoud/miniconda3/envs/mini-rag-app/lib/python3.8/site-packages (from sympy->torch>=1.8.0->ultralytics) (1.3.0)\r\n",
      "Downloading roboflow-1.1.63-py3-none-any.whl (85 kB)\r\n",
      "Downloading idna-3.7-py3-none-any.whl (66 kB)\r\n",
      "Downloading opencv_python_headless-4.10.0.84-cp37-abi3-manylinux_2_17_x86_64.manylinux2014_x86_64.whl (49.9 MB)\r\n",
      "\u001B[2K   \u001B[90m━━━━━━━━━━━━━━━━━━━━━━━━━━━━━━━━━━━━━━━━\u001B[0m \u001B[32m49.9/49.9 MB\u001B[0m \u001B[31m1.6 MB/s\u001B[0m eta \u001B[36m0:00:00\u001B[0m00:01\u001B[0m00:01\u001B[0m\r\n",
      "\u001B[?25hDownloading ultralytics-8.3.128-py3-none-any.whl (1.0 MB)\r\n",
      "\u001B[2K   \u001B[90m━━━━━━━━━━━━━━━━━━━━━━━━━━━━━━━━━━━━━━━━\u001B[0m \u001B[32m1.0/1.0 MB\u001B[0m \u001B[31m1.7 MB/s\u001B[0m eta \u001B[36m0:00:00\u001B[0ma \u001B[36m0:00:01\u001B[0m\r\n",
      "\u001B[?25hDownloading pillow_heif-0.18.0-cp38-cp38-manylinux_2_17_x86_64.manylinux2014_x86_64.whl (7.6 MB)\r\n",
      "\u001B[2K   \u001B[90m━━━━━━━━━━━━━━━━━━━━━━━━━━━━━━━━━━━━━━━━\u001B[0m \u001B[32m7.6/7.6 MB\u001B[0m \u001B[31m1.8 MB/s\u001B[0m eta \u001B[36m0:00:00\u001B[0ma \u001B[36m0:00:01\u001B[0m\r\n",
      "\u001B[?25hDownloading seaborn-0.13.2-py3-none-any.whl (294 kB)\r\n",
      "Downloading ultralytics_thop-2.0.14-py3-none-any.whl (26 kB)\r\n",
      "Downloading py_cpuinfo-9.0.0-py3-none-any.whl (22 kB)\r\n",
      "Installing collected packages: py-cpuinfo, pillow-heif, opencv-python-headless, idna, seaborn, ultralytics-thop, roboflow, ultralytics\r\n",
      "  Attempting uninstall: idna\r\n",
      "    Found existing installation: idna 3.10\r\n",
      "    Uninstalling idna-3.10:\r\n",
      "      Successfully uninstalled idna-3.10\r\n",
      "\u001B[31mERROR: pip's dependency resolver does not currently take into account all the packages that are installed. This behaviour is the source of the following dependency conflicts.\r\n",
      "unstructured-client 0.27.0 requires pydantic<2.10.0,>=2.9.2, but you have pydantic 2.10.6 which is incompatible.\u001B[0m\u001B[31m\r\n",
      "\u001B[0mSuccessfully installed idna-3.7 opencv-python-headless-4.10.0.84 pillow-heif-0.18.0 py-cpuinfo-9.0.0 roboflow-1.1.63 seaborn-0.13.2 ultralytics-8.3.128 ultralytics-thop-2.0.14\r\n"
     ]
    }
   ],
   "execution_count": 1
  },
  {
   "cell_type": "code",
   "metadata": {
    "_cell_guid": "b1076dfc-b9ad-4769-8c92-a6c4dae69d19",
    "_uuid": "8f2839f25d086af736a60e9eeb907d3b93b6e0e5",
    "execution": {
     "iopub.execute_input": "2025-05-07T16:55:49.513433Z",
     "iopub.status.busy": "2025-05-07T16:55:49.513141Z",
     "iopub.status.idle": "2025-05-07T16:56:13.346992Z",
     "shell.execute_reply": "2025-05-07T16:56:13.346422Z",
     "shell.execute_reply.started": "2025-05-07T16:55:49.513406Z"
    },
    "trusted": true,
    "ExecuteTime": {
     "end_time": "2025-05-07T23:39:19.287103Z",
     "start_time": "2025-05-07T23:16:47.657291Z"
    }
   },
   "source": [
    "from roboflow import Roboflow\n",
    "rf = Roboflow(api_key=\"vw7zsJifR7NC94OxTV4e\")\n",
    "project = rf.workspace(\"roboflow-gw7yv\").project(\"self-driving-car\")\n",
    "version = project.version(3)\n",
    "dataset = version.download(\"yolov11\")"
   ],
   "outputs": [
    {
     "name": "stdout",
     "output_type": "stream",
     "text": [
      "loading Roboflow workspace...\n",
      "loading Roboflow project...\n"
     ]
    },
    {
     "name": "stderr",
     "output_type": "stream",
     "text": [
      "Downloading Dataset Version Zip in Self-Driving-Car-3 to yolov11:: 100%|██████████| 1139452/1139452 [16:51<00:00, 1126.90it/s]"
     ]
    },
    {
     "name": "stdout",
     "output_type": "stream",
     "text": [
      "\n"
     ]
    },
    {
     "name": "stderr",
     "output_type": "stream",
     "text": [
      "\n",
      "Extracting Dataset Version Zip to Self-Driving-Car-3 in yolov11:: 100%|██████████| 59606/59606 [05:28<00:00, 181.58it/s]\n"
     ]
    }
   ],
   "execution_count": 2
  },
  {
   "cell_type": "code",
   "metadata": {
    "execution": {
     "iopub.execute_input": "2025-05-07T16:56:13.348051Z",
     "iopub.status.busy": "2025-05-07T16:56:13.347794Z",
     "iopub.status.idle": "2025-05-07T16:56:16.960191Z",
     "shell.execute_reply": "2025-05-07T16:56:16.959430Z",
     "shell.execute_reply.started": "2025-05-07T16:56:13.348025Z"
    },
    "trusted": true,
    "ExecuteTime": {
     "end_time": "2025-05-07T23:46:16.474023Z",
     "start_time": "2025-05-07T23:46:01.351849Z"
    }
   },
   "source": [
    "import os\n",
    "import yaml\n",
    "import shutil\n",
    "import torch\n",
    "import numpy as np\n",
    "import matplotlib.pyplot as plt\n",
    "from sklearn.model_selection import train_test_split\n",
    "from ultralytics import YOLO"
   ],
   "outputs": [
    {
     "name": "stdout",
     "output_type": "stream",
     "text": [
      "Creating new Ultralytics Settings v0.0.6 file ✅ \n",
      "View Ultralytics Settings with 'yolo settings' or at '/home/mahmoud/.config/Ultralytics/settings.json'\n",
      "Update Settings with 'yolo settings key=value', i.e. 'yolo settings runs_dir=path/to/dir'. For help see https://docs.ultralytics.com/quickstart/#ultralytics-settings.\n"
     ]
    }
   ],
   "execution_count": 3
  },
  {
   "metadata": {
    "execution": {
     "iopub.execute_input": "2025-05-07T16:56:16.961764Z",
     "iopub.status.busy": "2025-05-07T16:56:16.961333Z",
     "iopub.status.idle": "2025-05-07T16:56:16.968928Z",
     "shell.execute_reply": "2025-05-07T16:56:16.968005Z",
     "shell.execute_reply.started": "2025-05-07T16:56:16.961745Z"
    },
    "trusted": true,
    "ExecuteTime": {
     "end_time": "2025-05-07T23:54:30.902773Z",
     "start_time": "2025-05-07T23:54:30.813321Z"
    }
   },
   "cell_type": "code",
   "source": [
    "base_dir = 'C:\\working\\Self-Driving-Car-3'\n",
    "yaml_path = os.path.join('C:\\working\\Self-Driving-Car-3', 'data.yaml')\n",
    "export_images = os.path.join(base_dir, 'export', 'images')\n",
    "export_labels = os.path.join(base_dir, 'export', 'labels')\n",
    "valid_images = os.path.join(base_dir, 'valid', 'images')\n",
    "valid_labels = os.path.join(base_dir, 'valid', 'labels')\n",
    "results_dir = 'C:\\working/results/autonomous_detection'\n",
    "\n",
    "os.makedirs(valid_images, exist_ok=True)\n",
    "os.makedirs(valid_labels, exist_ok=True)\n",
    "os.makedirs(results_dir, exist_ok=True)\n",
    "\n",
    "is_valid_empty = not os.path.exists(valid_images) or len(os.listdir(valid_images)) == 0\n"
   ],
   "outputs": [],
   "execution_count": 14
  },
  {
   "cell_type": "code",
   "metadata": {
    "execution": {
     "iopub.execute_input": "2025-05-07T16:56:30.437977Z",
     "iopub.status.busy": "2025-05-07T16:56:30.437276Z",
     "iopub.status.idle": "2025-05-07T16:56:31.967711Z",
     "shell.execute_reply": "2025-05-07T16:56:31.966893Z",
     "shell.execute_reply.started": "2025-05-07T16:56:30.437950Z"
    },
    "trusted": true,
    "ExecuteTime": {
     "end_time": "2025-05-07T23:54:33.615953Z",
     "start_time": "2025-05-07T23:54:33.608123Z"
    }
   },
   "source": [
    "\n",
    "\n",
    "if is_valid_empty and os.path.exists(export_images) and len(os.listdir(export_images)) > 0:\n",
    "    print(\"Creating validation set by splitting export data...\")\n",
    "    \n",
    "    # Get list of image files\n",
    "    image_files = [f for f in os.listdir(export_images) if f.endswith(('.jpg', '.jpeg', '.png'))]\n",
    "    \n",
    "    # Split into training and validation sets\n",
    "    if len(image_files) >= 5:  # Ensure enough images for splitting\n",
    "        _, valid_files = train_test_split(image_files, test_size=0.2, random_state=42)\n",
    "        \n",
    "        # Copy validation files\n",
    "        for img_file in valid_files:\n",
    "            # Copy image\n",
    "            shutil.copy2(\n",
    "                os.path.join(export_images, img_file),\n",
    "                os.path.join(valid_images, img_file)\n",
    "            )\n",
    "            \n",
    "            # Copy corresponding label file\n",
    "            label_file = os.path.splitext(img_file)[0] + '.txt'\n",
    "            if os.path.exists(os.path.join(export_labels, label_file)):\n",
    "                shutil.copy2(\n",
    "                    os.path.join(export_labels, label_file),\n",
    "                    os.path.join(valid_labels, label_file)\n",
    "                )\n",
    "        \n",
    "        print(f\"Created validation set with {len(valid_files)} images.\")\n",
    "    else:\n",
    "        print(\"Too few images for splitting. Using training folder for validation as well.\")\n"
   ],
   "outputs": [],
   "execution_count": 16
  },
  {
   "cell_type": "code",
   "metadata": {
    "execution": {
     "iopub.execute_input": "2025-05-07T16:56:35.140355Z",
     "iopub.status.busy": "2025-05-07T16:56:35.139749Z",
     "iopub.status.idle": "2025-05-07T16:56:35.153562Z",
     "shell.execute_reply": "2025-05-07T16:56:35.152778Z",
     "shell.execute_reply.started": "2025-05-07T16:56:35.140330Z"
    },
    "trusted": true,
    "ExecuteTime": {
     "end_time": "2025-05-07T23:54:36.000803Z",
     "start_time": "2025-05-07T23:54:35.951588Z"
    }
   },
   "source": [
    "with open(yaml_path, 'r') as f:\n",
    "    data_yaml = yaml.safe_load(f)\n",
    "\n",
    "data_yaml['train'] = export_images \n",
    "\n",
    "if os.path.exists(valid_images) and len(os.listdir(valid_images)) > 0:\n",
    "    data_yaml['val'] = valid_images\n",
    "else:\n",
    "    print(\"No images in validation folder. Using training folder for validation as well.\")\n",
    "    data_yaml['val'] = export_images\n",
    "\n",
    "# Write the updated data.yaml file\n",
    "with open(yaml_path, 'w') as f:\n",
    "    yaml.dump(data_yaml, f)\n",
    "\n",
    "print(\"\\nUpdated data.yaml configuration:\")\n",
    "print(f\"Training: {data_yaml['train']}\")\n",
    "print(f\"Validation: {data_yaml['val']}\")\n"
   ],
   "outputs": [
    {
     "ename": "FileNotFoundError",
     "evalue": "[Errno 2] No such file or directory: 'C:\\\\working\\\\Self-Driving-Car-3/data.yaml'",
     "output_type": "error",
     "traceback": [
      "\u001B[0;31m---------------------------------------------------------------------------\u001B[0m",
      "\u001B[0;31mFileNotFoundError\u001B[0m                         Traceback (most recent call last)",
      "Cell \u001B[0;32mIn[17], line 1\u001B[0m\n\u001B[0;32m----> 1\u001B[0m \u001B[38;5;28;01mwith\u001B[39;00m \u001B[38;5;28;43mopen\u001B[39;49m\u001B[43m(\u001B[49m\u001B[43myaml_path\u001B[49m\u001B[43m,\u001B[49m\u001B[43m \u001B[49m\u001B[38;5;124;43m'\u001B[39;49m\u001B[38;5;124;43mr\u001B[39;49m\u001B[38;5;124;43m'\u001B[39;49m\u001B[43m)\u001B[49m \u001B[38;5;28;01mas\u001B[39;00m f:\n\u001B[1;32m      2\u001B[0m     data_yaml \u001B[38;5;241m=\u001B[39m yaml\u001B[38;5;241m.\u001B[39msafe_load(f)\n\u001B[1;32m      4\u001B[0m data_yaml[\u001B[38;5;124m'\u001B[39m\u001B[38;5;124mtrain\u001B[39m\u001B[38;5;124m'\u001B[39m] \u001B[38;5;241m=\u001B[39m export_images \n",
      "File \u001B[0;32m~/miniconda3/envs/mini-rag-app/lib/python3.8/site-packages/IPython/core/interactiveshell.py:284\u001B[0m, in \u001B[0;36m_modified_open\u001B[0;34m(file, *args, **kwargs)\u001B[0m\n\u001B[1;32m    277\u001B[0m \u001B[38;5;28;01mif\u001B[39;00m file \u001B[38;5;129;01min\u001B[39;00m {\u001B[38;5;241m0\u001B[39m, \u001B[38;5;241m1\u001B[39m, \u001B[38;5;241m2\u001B[39m}:\n\u001B[1;32m    278\u001B[0m     \u001B[38;5;28;01mraise\u001B[39;00m \u001B[38;5;167;01mValueError\u001B[39;00m(\n\u001B[1;32m    279\u001B[0m         \u001B[38;5;124mf\u001B[39m\u001B[38;5;124m\"\u001B[39m\u001B[38;5;124mIPython won\u001B[39m\u001B[38;5;124m'\u001B[39m\u001B[38;5;124mt let you open fd=\u001B[39m\u001B[38;5;132;01m{\u001B[39;00mfile\u001B[38;5;132;01m}\u001B[39;00m\u001B[38;5;124m by default \u001B[39m\u001B[38;5;124m\"\u001B[39m\n\u001B[1;32m    280\u001B[0m         \u001B[38;5;124m\"\u001B[39m\u001B[38;5;124mas it is likely to crash IPython. If you know what you are doing, \u001B[39m\u001B[38;5;124m\"\u001B[39m\n\u001B[1;32m    281\u001B[0m         \u001B[38;5;124m\"\u001B[39m\u001B[38;5;124myou can use builtins\u001B[39m\u001B[38;5;124m'\u001B[39m\u001B[38;5;124m open.\u001B[39m\u001B[38;5;124m\"\u001B[39m\n\u001B[1;32m    282\u001B[0m     )\n\u001B[0;32m--> 284\u001B[0m \u001B[38;5;28;01mreturn\u001B[39;00m \u001B[43mio_open\u001B[49m\u001B[43m(\u001B[49m\u001B[43mfile\u001B[49m\u001B[43m,\u001B[49m\u001B[43m \u001B[49m\u001B[38;5;241;43m*\u001B[39;49m\u001B[43margs\u001B[49m\u001B[43m,\u001B[49m\u001B[43m \u001B[49m\u001B[38;5;241;43m*\u001B[39;49m\u001B[38;5;241;43m*\u001B[39;49m\u001B[43mkwargs\u001B[49m\u001B[43m)\u001B[49m\n",
      "\u001B[0;31mFileNotFoundError\u001B[0m: [Errno 2] No such file or directory: 'C:\\\\working\\\\Self-Driving-Car-3/data.yaml'"
     ]
    }
   ],
   "execution_count": 17
  },
  {
   "cell_type": "code",
   "execution_count": null,
   "metadata": {
    "execution": {
     "iopub.execute_input": "2025-05-07T16:56:39.502701Z",
     "iopub.status.busy": "2025-05-07T16:56:39.502359Z",
     "iopub.status.idle": "2025-05-07T16:56:39.535036Z",
     "shell.execute_reply": "2025-05-07T16:56:39.534428Z",
     "shell.execute_reply.started": "2025-05-07T16:56:39.502677Z"
    },
    "trusted": true
   },
   "outputs": [],
   "source": [
    "print(\"\\nExploring dataset:\")\n",
    "if os.path.exists(export_images):\n",
    "    num_images = len([f for f in os.listdir(export_images) if f.endswith(('.jpg', '.jpeg', '.png'))])\n",
    "    print(f\"Total training images: {num_images}\")\n",
    "    \n",
    "    # Display class distribution if possible\n",
    "    if 'names' in data_yaml:\n",
    "        print(f\"Classes in dataset: {data_yaml['names']}\")\n"
   ]
  },
  {
   "cell_type": "code",
   "execution_count": 14,
   "metadata": {
    "execution": {
     "iopub.execute_input": "2025-05-07T17:03:53.924239Z",
     "iopub.status.busy": "2025-05-07T17:03:53.923529Z",
     "iopub.status.idle": "2025-05-07T17:03:53.928193Z",
     "shell.execute_reply": "2025-05-07T17:03:53.927574Z",
     "shell.execute_reply.started": "2025-05-07T17:03:53.924213Z"
    },
    "trusted": true
   },
   "outputs": [],
   "source": [
    "import os\n",
    "import wandb\n",
    "\n",
    "os.environ[\"WANDB_API_KEY\"] = \"05b9b63a10722e4a10d8cc7663f9c1e847c766ec\" \n",
    "os.environ[\"WANDB_PROJECT\"] = \"autonomous_vehicle_detection\"\n",
    "os.environ[\"WANDB_ENTITY\"] = \"amrdabour24\"  "
   ]
  },
  {
   "cell_type": "code",
   "execution_count": null,
   "metadata": {
    "execution": {
     "iopub.execute_input": "2025-05-07T17:54:25.694914Z",
     "iopub.status.busy": "2025-05-07T17:54:25.694611Z",
     "iopub.status.idle": "2025-05-07T17:54:31.940141Z",
     "shell.execute_reply": "2025-05-07T17:54:31.939559Z",
     "shell.execute_reply.started": "2025-05-07T17:54:25.694893Z"
    },
    "trusted": true
   },
   "outputs": [],
   "source": [
    "# Add this to your training setup code\n",
    "import wandb\n",
    "\n",
    "# Initialize wandb with more config details\n",
    "wandb.init(\n",
    "    project=\"autonomous_vehicle_detection\",\n",
    "    name=\"yolov8_self_driving\",\n",
    "    config={\n",
    "        \"model\": \"yolov8n\",\n",
    "        \"epochs\": 5,\n",
    "        \"batch_size\": 16,\n",
    "        \"image_size\": 640,\n",
    "        \"optimizer\": \"Adam\",\n",
    "        \"learning_rate\": 0.001\n",
    "    }\n",
    ")\n",
    "\n",
    "# During training, create custom logs for visualization\n",
    "# Add this after each validation step\n",
    "def log_metrics_with_custom_viz(results):\n",
    "    # Log standard metrics\n",
    "    wandb.log({\n",
    "        \"box_loss\": results.box_loss,\n",
    "        \"cls_loss\": results.cls_loss,\n",
    "        \"dfl_loss\": results.dfl_loss,\n",
    "        \"mAP50\": results.metrics.map50,\n",
    "        \"mAP50-95\": results.metrics.map,\n",
    "        \"precision\": results.metrics.precision,\n",
    "        \"recall\": results.metrics.recall\n",
    "    })\n",
    "    \n",
    "    # Create custom visualization\n",
    "    wandb.log({\n",
    "        \"loss_comparison\": wandb.plot.line_series(\n",
    "            xs=list(range(len(results.box_loss_history))),\n",
    "            ys=[\n",
    "                results.box_loss_history,\n",
    "                results.cls_loss_history,\n",
    "                results.dfl_loss_history\n",
    "            ],\n",
    "            keys=[\"Box Loss\", \"Classification Loss\", \"DFL Loss\"],\n",
    "            title=\"Training Losses\",\n",
    "            xname=\"Epochs\"\n",
    "        )\n",
    "    })\n",
    "    \n",
    "    # Add performance visualization\n",
    "    wandb.log({\n",
    "        \"detection_performance\": wandb.plot.line_series(\n",
    "            xs=list(range(len(results.map50_history))),\n",
    "            ys=[\n",
    "                results.map50_history,\n",
    "                results.map_history,\n",
    "                results.precision_history,\n",
    "                results.recall_history\n",
    "            ],\n",
    "            keys=[\"mAP50\", \"mAP50-95\", \"Precision\", \"Recall\"],\n",
    "            title=\"Detection Performance\",\n",
    "            xname=\"Epochs\"\n",
    "        )\n",
    "    })"
   ]
  },
  {
   "cell_type": "code",
   "execution_count": null,
   "metadata": {
    "execution": {
     "iopub.execute_input": "2025-05-07T18:49:45.621432Z",
     "iopub.status.busy": "2025-05-07T18:49:45.621054Z",
     "iopub.status.idle": "2025-05-07T18:49:45.680642Z",
     "shell.execute_reply": "2025-05-07T18:49:45.680079Z",
     "shell.execute_reply.started": "2025-05-07T18:49:45.621398Z"
    },
    "trusted": true
   },
   "outputs": [],
   "source": [
    "print(\"\\nStarting model training...\")\n",
    "\n",
    "model = YOLO('yolov8n.pt')  #  'yolov8s.pt', 'yolov8m.pt', or 'yolov8l.pt'\n",
    "\n",
    "# Initialize wandb run\n",
    "wandb.init(project=\"autonomous_vehicle_detection\", \n",
    "           name=\"yolov8_self_driving\",\n",
    "           config={\n",
    "               \"model\": \"yolov8n\",\n",
    "               \"epochs\": 5,\n",
    "               \"batch_size\": 16,\n",
    "               \"image_size\": 640,\n",
    "               \"optimizer\": \"Adam\",\n",
    "               \"learning_rate\": 0.001\n",
    "           })\n",
    "\n",
    "training_params = {\n",
    "    'data': yaml_path,\n",
    "    'epochs': 5,           # Number of training epochs\n",
    "    'patience': 10,         # Early stopping patience\n",
    "    'batch': 16,            # Batch size\n",
    "    'imgsz': 640,           # Image size\n",
    "    'device': 0 if torch.cuda.is_available() else 'cpu',  # Use GPU if available\n",
    "    'save': True,           # Save model checkpoints\n",
    "    'project': '/kaggle/working/results',\n",
    "    'name': 'autonomous_detection',\n",
    "    'pretrained': True,     # Use pre-trained weights\n",
    "    'optimizer': 'Adam',    # Optimizer type\n",
    "    'lr0': 0.001,           # Initial learning rate\n",
    "    'weight_decay': 0.0005, # Weight decay for regularization\n",
    "    'cos_lr': True,         # Use cosine learning rate scheduler\n",
    "    'label_smoothing': 0.1, # Label smoothing\n",
    "    'augment': True,        # Use data augmentation\n",
    "}\n",
    "\n",
    "# YOLOv8 will automatically use wandb since it's initialized\n",
    "# results = model.train(**training_params)\n",
    "\n",
    "# Finish wandb run\n",
    "# wandb.finish()"
   ]
  },
  {
   "cell_type": "code",
   "execution_count": null,
   "metadata": {
    "execution": {
     "iopub.execute_input": "2025-05-07T18:49:47.516015Z",
     "iopub.status.busy": "2025-05-07T18:49:47.515438Z",
     "iopub.status.idle": "2025-05-07T19:23:47.431678Z",
     "shell.execute_reply": "2025-05-07T19:23:47.430626Z",
     "shell.execute_reply.started": "2025-05-07T18:49:47.515990Z"
    },
    "trusted": true
   },
   "outputs": [],
   "source": [
    "# Add this code before your model.train() call\n",
    "import wandb\n",
    "\n",
    "# Initialize wandb manually (if not already done)\n",
    "if wandb.run is None:\n",
    "    wandb.init(project=\"autonomous_vehicle_detection\", name=\"yolov8_self_driving\")\n",
    "\n",
    "# Create a custom callback function to log metrics after each epoch\n",
    "def log_metrics_callback(trainer):\n",
    "    # Log training losses\n",
    "    try:\n",
    "        wandb.log({\n",
    "            \"box_loss\": trainer.metrics.get(\"box_loss\", 0),\n",
    "            \"cls_loss\": trainer.metrics.get(\"cls_loss\", 0),\n",
    "            \"dfl_loss\": trainer.metrics.get(\"dfl_loss\", 0),\n",
    "            \n",
    "            # Validation metrics\n",
    "            \"map50\": trainer.metrics.get(\"metrics/mAP50\", 0),\n",
    "            \"map\": trainer.metrics.get(\"metrics/mAP50-95\", 0),\n",
    "            \"precision\": trainer.metrics.get(\"precision\", 0),\n",
    "            \"recall\": trainer.metrics.get(\"recall\", 0),\n",
    "            \n",
    "            \"epoch\": trainer.epoch\n",
    "        })\n",
    "    except Exception as e:\n",
    "        print(f\"Error logging to wandb: {e}\")\n",
    "\n",
    "# Register the callback with the model\n",
    "model.add_callback(\"on_fit_epoch_end\", log_metrics_callback)\n",
    "\n",
    "# Then run training as before\n",
    "results = model.train(**training_params)"
   ]
  },
  {
   "cell_type": "code",
   "execution_count": null,
   "metadata": {
    "execution": {
     "iopub.execute_input": "2025-05-07T17:41:17.004542Z",
     "iopub.status.busy": "2025-05-07T17:41:17.004263Z",
     "iopub.status.idle": "2025-05-07T17:42:17.671999Z",
     "shell.execute_reply": "2025-05-07T17:42:17.671164Z",
     "shell.execute_reply.started": "2025-05-07T17:41:17.004521Z"
    },
    "trusted": true
   },
   "outputs": [],
   "source": [
    "evaluation = model.val(data=yaml_path)\n",
    "print(f\"Resultados de validación:\")\n",
    "print(f\"mAP@0.5: {evaluation.box.map50:.4f}\")\n",
    "print(f\"mAP@0.5:0.95: {evaluation.box.map:.4f}\")\n",
    "\n",
    "if hasattr(evaluation.box.p, \"mean\"):\n",
    "    print(f\"Precision: {evaluation.box.p.mean():.4f}\")\n",
    "else:\n",
    "    print(f\"Precision: {evaluation.box.p:.4f}\")\n",
    "    \n",
    "if hasattr(evaluation.box.r, \"mean\"):\n",
    "    print(f\"Recall: {evaluation.box.r.mean():.4f}\")\n",
    "else:\n",
    "    print(f\"Recall: {evaluation.box.r:.4f}\")"
   ]
  },
  {
   "cell_type": "code",
   "execution_count": null,
   "metadata": {
    "trusted": true
   },
   "outputs": [],
   "source": [
    "print(\"\\nExporting model for deployment...\")\n",
    "for export_format in ['onnx', 'tflite', 'saved_model']:\n",
    "    try:\n",
    "        model.export(format=export_format, imgsz=640)\n",
    "        print(f\"Exported model to {export_format} format successfully.\")\n",
    "    except Exception as e:\n",
    "        print(f\"Failed to export model to {export_format} format: {e}\")\n"
   ]
  },
  {
   "cell_type": "code",
   "execution_count": null,
   "metadata": {
    "execution": {
     "iopub.execute_input": "2025-05-07T19:41:13.675223Z",
     "iopub.status.busy": "2025-05-07T19:41:13.674456Z",
     "iopub.status.idle": "2025-05-07T19:41:41.063628Z",
     "shell.execute_reply": "2025-05-07T19:41:41.062801Z",
     "shell.execute_reply.started": "2025-05-07T19:41:13.675198Z"
    },
    "trusted": true
   },
   "outputs": [],
   "source": [
    "print(\"\\nTesting model on sample images...\")\n",
    "for i in range(400,690,5):\n",
    "    if os.path.exists(valid_images) and len(os.listdir(valid_images)) > 0:\n",
    "        # Get a sample image from validation set\n",
    "        sample_img = os.path.join(valid_images, os.listdir(valid_images)[i])\n",
    "        \n",
    "        # Run inference\n",
    "        results = model(sample_img)\n",
    "        \n",
    "        # Plot results\n",
    "        fig, ax = plt.subplots(figsize=(10, 8))\n",
    "        res_plotted = results[0].plot()\n",
    "        ax.imshow(res_plotted)\n",
    "        ax.axis('off')\n",
    "        plt.savefig(os.path.join(results_dir, 'detection_example.png'))\n",
    "        plt.show()\n",
    "        print(\"Saved detection example image.\")\n",
    "\n",
    "print(\"\\nTraining complete! Model saved to:\", results_dir)\n",
    "print(\"You can now use this model for real-time object detection in autonomous vehicles.\")"
   ]
  },
  {
   "cell_type": "code",
   "execution_count": null,
   "metadata": {
    "trusted": true
   },
   "outputs": [],
   "source": []
  }
 ],
 "metadata": {
  "kaggle": {
   "accelerator": "gpu",
   "dataSources": [],
   "dockerImageVersionId": 31011,
   "isGpuEnabled": true,
   "isInternetEnabled": true,
   "language": "python",
   "sourceType": "notebook"
  },
  "kernelspec": {
   "display_name": "Python 3",
   "language": "python",
   "name": "python3"
  },
  "language_info": {
   "codemirror_mode": {
    "name": "ipython",
    "version": 3
   },
   "file_extension": ".py",
   "mimetype": "text/x-python",
   "name": "python",
   "nbconvert_exporter": "python",
   "pygments_lexer": "ipython3",
   "version": "3.11.11"
  }
 },
 "nbformat": 4,
 "nbformat_minor": 4
}
